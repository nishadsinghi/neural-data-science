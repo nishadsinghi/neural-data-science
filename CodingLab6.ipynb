{
 "cells": [
  {
   "cell_type": "markdown",
   "metadata": {},
   "source": [
    "_Neural Data Analysis_\n",
    "\n",
    "Lecturer: Prof. Dr. Philipp Berens\n",
    "\n",
    "Tutors: Sarah Strauss, Ziwei Huang\n",
    "\n",
    "Summer term 2021\n",
    "\n",
    "Name: *Nishad Singhi (5619175) | Harry Antony (5610172)*\n",
    "\n",
    "# Coding Lab 6\n",
    "\n"
   ]
  },
  {
   "cell_type": "code",
   "execution_count": 20,
   "metadata": {},
   "outputs": [],
   "source": [
    "import pandas as pd\n",
    "import seaborn as sns\n",
    "import matplotlib.pyplot as plt\n",
    "import matplotlib as mpl\n",
    "import numpy as np\n",
    "\n",
    "mpl.rc(\"savefig\", dpi=72)\n",
    "\n",
    "import itertools\n",
    "\n",
    "sns.set_style('whitegrid')\n",
    "%matplotlib inline"
   ]
  },
  {
   "cell_type": "markdown",
   "metadata": {},
   "source": [
    "## Task: Implement entropy estimators\n",
    "\n",
    "\n"
   ]
  },
  {
   "cell_type": "markdown",
   "metadata": {},
   "source": [
    "### General framework\n",
    "\n",
    "Entropy is defined as \n",
    "\n",
    "$$\n",
    "H[p] = -\\sum_x p_x \\log p_x\n",
    "$$\n",
    "\n",
    "where $p_x = p(x=X)$. Here we assume that $X$ is a discrete random variable and that there are finitely many states $K$ that $X$ can take.\n",
    "\n",
    "We are interested in the entropy of discrete random variables, because of its relationship with mutual information:\n",
    "\n",
    "$$\n",
    "I[X|Y] = H[X] - H[X|Y]\n",
    "$$\n",
    "\n",
    "If we can estimate the entropy well, we can estimate the mutual information well. An application in neuroscience would be estimating the mutual information between a spike train modeled as a sequence of $1$s and $0$s (e.g. $(0,1,0,1,1)$) and a discrete set of stimuli.\n",
    "\n",
    "Note that a multivariate binary distribution modeling a spike train can always be mapped to a discrete univariate distribution, $\\mathbb{Z}_2 \\longrightarrow \\mathbb{Z_+}$, by interpreting each binary state $z \\in \\mathbb{Z}_2$ as its corresponding binary number and computing $f(z) = \\sum_i 2^{i} z_i$.\n",
    "\n",
    "As discussed in the lecture, the problem is that one always underestimates the true entropy of a distribution from samples. In this exercise you are meant to implement different estimators for discrete entropy and evaluate them on different discrete distributions:\n",
    "\n",
    "* Uniform distribution: $p(x=X) = \\frac{1}{K}$\n",
    "\n",
    "* \"Zipf's law\"- distribution: $p(x=X) = \\frac{1}{Z x} $, where $Z = \\sum_k 1/k$\n",
    "\n",
    "There is a really good series of blog posts about discrete entropy estimation to be found [here](http://www.nowozin.net/sebastian/blog/estimating-discrete-entropy-part-1.html), [here](http://www.nowozin.net/sebastian/blog/estimating-discrete-entropy-part-2.html) and [here](http://www.nowozin.net/sebastian/blog/estimating-discrete-entropy-part-3.html). \n",
    "\n",
    "Make sure you use binary logarithms throughout.\n"
   ]
  },
  {
   "cell_type": "markdown",
   "metadata": {},
   "source": [
    "### Implementation of the estimators\n",
    "\n",
    "Implement the\n",
    "\n",
    "* maximum likelihood estimator (1 pt)\n",
    "* miller-maddow corrected estimator (1 pt)\n",
    "* jack-knife corrected estimator (2 pt)\n",
    "* coverage adjusted estimator (1 pt).\n",
    "\n",
    "When implementing the jack-knife estimator, you may want to restrict the amount of resampling for performance reasons e.g. to 1000, even if more samples are available. By definition, $0\\log0=0$. Adapt the interfaces as needed for your implementation.\n",
    "\n",
    "In addition, implement or use one of the following more advanced estimators (1+3 pts, extra points if you use your own implementation):\n",
    "\n",
    "* [JVHW estimator](https://arxiv.org/abs/1406.6956) with code on [github](https://github.com/EEthinker/JVHW_Entropy_Estimators/tree/master/Python)\n",
    "* [Unseen estimator](http://papers.nips.cc/paper/5170-estimating-the-unseen-improved-estimators-for-entropy-and-other-properties) (includes Matlab code in Supplementary)\n",
    "* [Best Upper Bounds estimator](http://www.mitpressjournals.org/doi/abs/10.1162/089976603321780272) (Matlab code available on Ilias)\n",
    "\n",
    "For this part, you are allowed to use an existing implementation as well.\n"
   ]
  },
  {
   "cell_type": "code",
   "execution_count": 40,
   "metadata": {},
   "outputs": [],
   "source": [
    "def entropy_mle(phat):\n",
    "    '''\n",
    "    Maximum likelihood or plug-in estimator of discrete entropy\n",
    "    \n",
    "    phat:    estimate of the distribution / histogram\n",
    "    H:       entropy estimate\n",
    "    '''\n",
    "    H = np.sum([-p*np.log2(p) if p != 0 else 0 for p in phat])\n",
    "\n",
    "    return H\n"
   ]
  },
  {
   "cell_type": "code",
   "execution_count": 41,
   "metadata": {},
   "outputs": [],
   "source": [
    "def entropy_mm(phat, n):\n",
    "    '''\n",
    "    Miller-Maddow corrected estimator of discrete entropy\n",
    "    \n",
    "    phat:    estimate of the distribution / histogram\n",
    "    n:       sample size\n",
    "    H:       entropy estimate\n",
    "    '''\n",
    "    d_hat = np.size(np.where(phat > 0)[0])\n",
    "    H_MLE = entropy_mle(phat)\n",
    "    H = H_MLE + (d_hat - 1)/(2*n)\n",
    "    \n",
    "    return H\n"
   ]
  },
  {
   "cell_type": "code",
   "execution_count": 42,
   "metadata": {},
   "outputs": [],
   "source": [
    "def entropy_jk(x, edges):\n",
    "    '''\n",
    "    Jack-knife corrected estimator of discrete entropy\n",
    "    '''        \n",
    "    S = np.size(x)\n",
    "    if S > 1000:\n",
    "        all_i_ = np.arange(0, S)\n",
    "        np.random.shuffle(all_i_)\n",
    "        all_i = all_i_[:1000]\n",
    "        n = 1000\n",
    "    else:\n",
    "        all_i = np.arange(0, S)\n",
    "        n = S\n",
    "        \n",
    "    all_H_MLE_without_i = []\n",
    "    for i in all_i:\n",
    "        x_without_i = np.delete(x.copy(), int(i))\n",
    "        phat = np.histogram(x_without_i,edges)[0]\n",
    "        phat = phat / np.size(x_without_i)\n",
    "        H_MLE_without_i = entropy_mle(phat)\n",
    "        all_H_MLE_without_i.append(H_MLE_without_i)\n",
    "\n",
    "    phat = np.histogram(x,edges)[0]\n",
    "    phat = phat / np.size(x)\n",
    "    H_MLE = entropy_mle(phat)\n",
    "    \n",
    "    H = n*H_MLE - (n-1)*np.mean(all_H_MLE_without_i)\n",
    "    \n",
    "    return H"
   ]
  },
  {
   "cell_type": "code",
   "execution_count": 43,
   "metadata": {},
   "outputs": [],
   "source": [
    "def entropy_cae(phat, n):\n",
    "    '''\n",
    "    coverage-adjusted estimator of discrete entropy\n",
    "    \n",
    "    phat:    estimate of the distribution / histogram\n",
    "    n:       sample size\n",
    "    H:       entropy estimate\n",
    "    '''\n",
    "    C = 1 - np.size(np.where(phat==(1/n))[0])/n\n",
    "    \n",
    "    phat_C = C*phat\n",
    "    \n",
    "    m = 1 - (1 - phat_C)**n\n",
    "    m[m == 0] = 1\n",
    "    \n",
    "    H = -np.sum(np.divide(np.array([p*np.log2(p) if p != 0 else 0 for p in phat_C]), m))\n",
    "\n",
    "    return H "
   ]
  },
  {
   "cell_type": "code",
   "execution_count": 45,
   "metadata": {},
   "outputs": [],
   "source": [
    "import est_entro as ee\n",
    "\n",
    "def entropy_jvwh(x):\n",
    "    '''\n",
    "    JVHW estimator of discrete entropy\n",
    "    '''\n",
    "    H = ee.est_entro_JVHW(x)\n",
    "    \n",
    "    return H"
   ]
  },
  {
   "cell_type": "markdown",
   "metadata": {},
   "source": [
    "### Uniform distribution"
   ]
  },
  {
   "cell_type": "code",
   "execution_count": 21,
   "metadata": {},
   "outputs": [
    {
     "name": "stdout",
     "output_type": "stream",
     "text": [
      "10.0\n"
     ]
    }
   ],
   "source": [
    "D = 10\n",
    "N = 2**D\n",
    "\n",
    "p = 1/N * np.ones(N)   # true distribution\n",
    "\n",
    "H = - np.sum(p * np.log2(p))  # true entropy\n",
    "\n",
    "print(H)"
   ]
  },
  {
   "cell_type": "markdown",
   "metadata": {},
   "source": [
    "Sample from the uniform distribution using sample sizes of 100 and 10000. Plot the true distribution and the sampled distributions. What do you notice? (1 pt)"
   ]
  },
  {
   "cell_type": "code",
   "execution_count": 47,
   "metadata": {},
   "outputs": [
    {
     "data": {
      "text/plain": [
       "<matplotlib.legend.Legend at 0x7fdc8846c310>"
      ]
     },
     "execution_count": 47,
     "metadata": {},
     "output_type": "execute_result"
    },
    {
     "data": {
      "image/png": "[encoded data removed]",
      "text/plain": [
       "<Figure size 720x360 with 2 Axes>"
      ]
     },
     "metadata": {
      "needs_background": "light"
     },
     "output_type": "display_data"
    }
   ],
   "source": [
    "fig, ax = plt.subplots(1, 2, sharex=True, sharey=True, figsize=(10, 5))\n",
    "edges = np.arange(-0.5, N, 1)\n",
    "\n",
    "for column, S in enumerate((100, 10000)):\n",
    "    x = np.random.randint(0, N, int(S))\n",
    "    phat = np.histogram(x,edges)[0]\n",
    "    phat = phat / S\n",
    "    ax[column].bar(edges[:-1], phat, edgecolor='none', label=r'$\\hat{p}$')\n",
    "    ax[column].axhline(1/N, color='red', linestyle='--', label='p')\n",
    "    ax[column].set_title(\"Number of samples = {}\".format(S))\n",
    "    ax[column].set_xlabel(\"x\")\n",
    "    ax[column].set_ylabel(\"Probability (x)\")\n",
    "\n",
    "plt.legend()"
   ]
  },
  {
   "cell_type": "markdown",
   "metadata": {},
   "source": [
    "We observe from above that as the number of samples increases, the observed probability distribution approaches the true uniform distribution. It can also be seen from the first panel that in case of lesser no. of samples, there is an overestimation of the observed probability values and a corresponding undrestimation for the unobserved values; much unlike the true distribution values! "
   ]
  },
  {
   "cell_type": "markdown",
   "metadata": {},
   "source": [
    "Use the framework below to generate samples of different size (logarithmically spaced between 10 and 100000) and evaluate the different entropy estimators for multiple runs."
   ]
  },
  {
   "cell_type": "code",
   "execution_count": 48,
   "metadata": {},
   "outputs": [],
   "source": [
    "sampleSz = np.round(np.logspace(1,5,num=10))\n",
    "nRuns = 30\n",
    "\n",
    "edges = np.arange(-0.5, N, 1)\n",
    "\n",
    "h_mle = np.zeros((len(sampleSz),nRuns))\n",
    "h_mm = np.zeros((len(sampleSz),nRuns))\n",
    "h_jk = np.zeros((len(sampleSz),nRuns))\n",
    "h_cae = np.zeros((len(sampleSz),nRuns))\n",
    "h_jvhw = np.zeros((len(sampleSz),nRuns))\n",
    "\n",
    "for i, S in enumerate(sampleSz):\n",
    "    for j in np.arange(nRuns):\n",
    "        x = np.random.randint(0, N, int(S))\n",
    "        \n",
    "        phat = np.histogram(x,edges)[0]\n",
    "        phat = phat / S\n",
    "        \n",
    "        h_mle[i,j] = entropy_mle(phat)\n",
    "        h_mm[i,j] = entropy_mm(phat, S)\n",
    "        h_cae[i,j] = entropy_cae(phat, S)\n",
    "        h_jk[i,j] = entropy_jk(x, edges)\n",
    "        \n",
    "        h_jvhw[i,j] = entropy_jvwh(x)\n",
    "        \n"
   ]
  },
  {
   "cell_type": "code",
   "execution_count": 42,
   "metadata": {},
   "outputs": [
    {
     "name": "stderr",
     "output_type": "stream",
     "text": [
      "/Users/nsinghi/Documents/University of Tübingen/Neural Data Science/unseen.py:71: OptimizeWarning: Solving system with option 'cholesky':True failed. It is normal for this to happen occasionally, especially as the solution is approached. However, if you see this frequently, consider setting option 'cholesky' to False.\n",
      "  \n",
      "/Users/nsinghi/Documents/University of Tübingen/Neural Data Science/unseen.py:71: OptimizeWarning: Solving system with option 'sym_pos':True failed. It is normal for this to happen occasionally, especially as the solution is approached. However, if you see this frequently, consider setting option 'sym_pos' to False.\n",
      "  \n",
      "/Users/nsinghi/opt/anaconda3/lib/python3.8/site-packages/scipy/optimize/_linprog_ip.py:116: LinAlgWarning: Ill-conditioned matrix (rcond=8.07994e-60): result may not be accurate.\n",
      "  return sp.linalg.solve(M, r, sym_pos=sym_pos)\n",
      "/Users/nsinghi/Documents/University of Tübingen/Neural Data Science/unseen.py:71: OptimizeWarning: Solving system with option 'sym_pos':False failed. This may happen occasionally, especially as the solution is approached. However, if you see this frequently, your problem may be numerically challenging. If you cannot improve the formulation, consider setting 'lstsq' to True. Consider also setting `presolve` to True, if it is not already.\n",
      "  \n",
      "/Users/nsinghi/opt/anaconda3/lib/python3.8/site-packages/scipy/optimize/_linprog_ip.py:116: LinAlgWarning: Ill-conditioned matrix (rcond=2.30019e-65): result may not be accurate.\n",
      "  return sp.linalg.solve(M, r, sym_pos=sym_pos)\n",
      "/Users/nsinghi/opt/anaconda3/lib/python3.8/site-packages/scipy/optimize/_linprog_ip.py:116: LinAlgWarning: Ill-conditioned matrix (rcond=6.0013e-69): result may not be accurate.\n",
      "  return sp.linalg.solve(M, r, sym_pos=sym_pos)\n",
      "/Users/nsinghi/opt/anaconda3/lib/python3.8/site-packages/scipy/optimize/_linprog_ip.py:116: LinAlgWarning: Ill-conditioned matrix (rcond=5.69453e-55): result may not be accurate.\n",
      "  return sp.linalg.solve(M, r, sym_pos=sym_pos)\n",
      "/Users/nsinghi/opt/anaconda3/lib/python3.8/site-packages/scipy/optimize/_linprog_ip.py:116: LinAlgWarning: Ill-conditioned matrix (rcond=2.85141e-55): result may not be accurate.\n",
      "  return sp.linalg.solve(M, r, sym_pos=sym_pos)\n"
     ]
    }
   ],
   "source": [
    "from unseen import unseen, make_fingers\n",
    "\n",
    "sampleSz = np.round(np.logspace(3,5,num=10))\n",
    "nRuns = 30\n",
    "\n",
    "h_unseen = np.zeros((len(sampleSz),nRuns))\n",
    "\n",
    "for i, S in enumerate(sampleSz):\n",
    "    for j in np.arange(nRuns):\n",
    "        x = np.random.randint(0, N, int(S))\n",
    "        f = make_fingers(x)\n",
    "        h_unseen[i,j] = unseen(f)\n",
    "        "
   ]
  },
  {
   "cell_type": "code",
   "execution_count": null,
   "metadata": {},
   "outputs": [],
   "source": [
    "from unseen import unseen, make_fingers\n",
    "f = make_fingers(x)\n",
    "h, x = unseen(f)\n",
    "estimatedEntropy = -1*np.sum(np.multiply([i*np.log2(i) if i !=0 else 0 for i in x], h))\n",
    "print(estimatedEntropy)"
   ]
  },
  {
   "cell_type": "markdown",
   "metadata": {},
   "source": [
    "Plot the resulting average estimate of the entropy for each of the estimators. Which is best? If you implemented everything correctly, this plot should roughly look like in the lecture."
   ]
  },
  {
   "cell_type": "code",
   "execution_count": 49,
   "metadata": {},
   "outputs": [
    {
     "data": {
      "text/plain": [
       "Text(0.5, 1.0, 'Comparison of entropy estimated using various estimators on \\ndata sampled from uniform distribution')"
      ]
     },
     "execution_count": 49,
     "metadata": {},
     "output_type": "execute_result"
    },
    {
     "data": {
      "image/png": "[encoded data removed]",
      "text/plain": [
       "<Figure size 432x288 with 1 Axes>"
      ]
     },
     "metadata": {
      "needs_background": "light"
     },
     "output_type": "display_data"
    }
   ],
   "source": [
    "plt.semilogx(sampleSz,np.mean(h_mle, axis=1))\n",
    "\n",
    "plt.semilogx(sampleSz,np.mean(h_mm, axis=1))\n",
    "plt.semilogx(sampleSz, np.mean(h_cae, axis=1))\n",
    "plt.semilogx(sampleSz,np.mean(h_jk, axis=1))\n",
    "plt.semilogx(sampleSz,np.mean(h_jvhw, axis=1))\n",
    "plt.axhline(H, color='black', linestyle='--')\n",
    "\n",
    "\n",
    "plt.legend(['mle', 'mm',  'cae', 'jk', 'jvhw', 'True'])\n",
    "plt.xlabel(\"# Trials\")\n",
    "plt.ylabel(\"Entropy (bits)\")\n",
    "plt.title(\"Comparison of entropy estimated using various estimators on \\ndata sampled from uniform distribution\")"
   ]
  },
  {
   "cell_type": "markdown",
   "metadata": {},
   "source": [
    "### Zipf distribution\n",
    "\n",
    "[Zipf's law ](https://en.wikipedia.org/wiki/Zipf%27s_law) refers to a family of power law like distributions for which $p_k \\sim 1/k^d$. We will simply use $d=1$ here.   \n",
    "\n",
    "Adapt the framework above to sample from a Zipf distribution and evaluate the estimators for this case. Are there differences to the uniform case? (3 pts)"
   ]
  },
  {
   "cell_type": "code",
   "execution_count": 50,
   "metadata": {},
   "outputs": [
    {
     "name": "stdout",
     "output_type": "stream",
     "text": [
      "7.510649703297878\n"
     ]
    }
   ],
   "source": [
    "D = 10\n",
    "N = 2**D\n",
    "\n",
    "p = 1/(np.arange(0,N)+1)    # true distribution\n",
    "p = p/np.sum(p)\n",
    "\n",
    "H = - np.sum(p * np.log2(p))  # true entropy\n",
    "\n",
    "print(H)"
   ]
  },
  {
   "cell_type": "markdown",
   "metadata": {},
   "source": [
    "Sample from the Zipf distribution using sample sizes of 100 and 10000. In this case, the function `random.choice` is very helpful for sampling. Plot the true distribution and the sampled distributions. What do you notice? "
   ]
  },
  {
   "cell_type": "code",
   "execution_count": 51,
   "metadata": {},
   "outputs": [
    {
     "data": {
      "text/plain": [
       "<matplotlib.legend.Legend at 0x7fdc8b2fab50>"
      ]
     },
     "execution_count": 51,
     "metadata": {},
     "output_type": "execute_result"
    },
    {
     "data": {
      "image/png": "[encoded data removed]",
      "text/plain": [
       "<Figure size 720x360 with 2 Axes>"
      ]
     },
     "metadata": {
      "needs_background": "light"
     },
     "output_type": "display_data"
    }
   ],
   "source": [
    "fig, ax = plt.subplots(1, 2, sharex=True, sharey=True, figsize=(10, 5))\n",
    "edges = np.arange(-0.5, N, 1)\n",
    "\n",
    "for column, S in enumerate((100, 10000)):\n",
    "    x = np.random.choice(np.arange(N), size=S, p=p)\n",
    "    phat = np.histogram(x,edges)[0]\n",
    "    phat = phat / S\n",
    "    ax[column].bar(edges[:-1], phat, edgecolor='none', label=r'$\\hat{p}$')\n",
    "    ax[column].plot(np.arange(N), p, color='red', linestyle='--', label='p')\n",
    "    ax[column].set_title(\"Number of samples = {}\".format(S))\n",
    "    ax[column].set_xlabel(\"x\")\n",
    "    ax[column].set_ylabel(\"Probability (x)\")\n",
    "\n",
    "plt.legend()"
   ]
  },
  {
   "cell_type": "markdown",
   "metadata": {},
   "source": [
    "As seen in the case of uniform distribution, for 100 samples, the observed probability distribution is very different from the true distribution. For 10000 samples, the observed distribution is much closer to the true distribution."
   ]
  },
  {
   "cell_type": "markdown",
   "metadata": {},
   "source": [
    "Use the framework below to generate samples of different size (logarithmically spaced between 10 and 100000) and evaluate the different entropy estimators for multiple runs."
   ]
  },
  {
   "cell_type": "code",
   "execution_count": 54,
   "metadata": {},
   "outputs": [],
   "source": [
    "sampleSz = np.round(np.logspace(1,5,num=10))\n",
    "nRuns = 30\n",
    "\n",
    "edges = np.arange(-0.5, N, 1)\n",
    "\n",
    "h_mle = np.zeros((len(sampleSz),nRuns))\n",
    "h_mm = np.zeros((len(sampleSz),nRuns))\n",
    "h_jk = np.zeros((len(sampleSz),nRuns))\n",
    "h_cae = np.zeros((len(sampleSz),nRuns))\n",
    "h_jvhw = np.zeros((len(sampleSz),nRuns))\n",
    "\n",
    "for i, S in enumerate(sampleSz):\n",
    "    for j in np.arange(nRuns):\n",
    "        \n",
    "        x = np.random.choice(np.arange(N), size=int(S), p=p)\n",
    "        \n",
    "        phat = np.histogram(x,edges)[0]\n",
    "        phat = phat / S\n",
    "        \n",
    "        h_mle[i,j] = entropy_mle(phat)\n",
    "        h_mm[i,j] = entropy_mm(phat, S)\n",
    "        h_cae[i,j] = entropy_cae(phat, S)\n",
    "        h_jk[i,j] = entropy_jk(x, edges)\n",
    "        \n",
    "        h_jvhw[i,j] = entropy_jvwh(x)\n",
    "        \n"
   ]
  },
  {
   "cell_type": "markdown",
   "metadata": {},
   "source": [
    "Plot resulting average estimate of the entropy for each of the estimators. Which is best? If you implemented everything correctly, this plot should roughly look like in the lecture."
   ]
  },
  {
   "cell_type": "code",
   "execution_count": 56,
   "metadata": {
    "scrolled": true
   },
   "outputs": [
    {
     "data": {
      "text/plain": [
       "Text(0.5, 1.0, 'Comparison of entropy estimated using various estimators on \\ndata sampled from Zipf distribution')"
      ]
     },
     "execution_count": 56,
     "metadata": {},
     "output_type": "execute_result"
    },
    {
     "data": {
      "image/png": "[encoded data removed]",
      "text/plain": [
       "<Figure size 432x288 with 1 Axes>"
      ]
     },
     "metadata": {
      "needs_background": "light"
     },
     "output_type": "display_data"
    }
   ],
   "source": [
    "plt.semilogx(sampleSz,np.mean(h_mle, axis=1))\n",
    "\n",
    "plt.semilogx(sampleSz,np.mean(h_mm, axis=1))\n",
    "plt.semilogx(sampleSz, np.mean(h_cae, axis=1))\n",
    "plt.semilogx(sampleSz,np.mean(h_jk, axis=1))\n",
    "plt.semilogx(sampleSz,np.mean(h_jvhw, axis=1))\n",
    "plt.axhline(H, color='black', linestyle='--')\n",
    "\n",
    "\n",
    "plt.legend(['mle', 'mm',  'cae', 'jk', 'jvhw', 'True'])\n",
    "plt.xlabel(\"# Trials\")\n",
    "plt.ylabel(\"Entropy (bits)\")\n",
    "plt.title(\"Comparison of entropy estimated using various estimators on \\ndata sampled from Zipf distribution\")"
   ]
  },
  {
   "cell_type": "markdown",
   "metadata": {},
   "source": [
    "Since Zipf's distribution is skewed, we observe that both true and estimated values are smaller than those obtained in the case of uniform distribution (Entropy is highest for uniform distribution). Additionally, we find that the performance of estimators follows the order -- JVHW > JK > MM > MLE -- in both cases. The performance of CAE is slightly worse than the other estimators in the case of uniform distribution, which may be attributed to the high amount of variance of this estimator (despite lower bias)."
   ]
  },
  {
   "cell_type": "code",
   "execution_count": 59,
   "metadata": {},
   "outputs": [
    {
     "data": {
      "text/plain": [
       "0.14936120510359185"
      ]
     },
     "execution_count": 59,
     "metadata": {},
     "output_type": "execute_result"
    }
   ],
   "source": [
    "from scipy.stats import poisson\n",
    "\n",
    "poisson.pmf(1, 3)"
   ]
  },
  {
   "cell_type": "code",
   "execution_count": 13,
   "metadata": {},
   "outputs": [
    {
     "ename": "ValueError",
     "evalue": "Phase 1 of the simplex method failed to find a feasible solution. The pseudo-objective function evaluates to 6.9e-04 which exceeds the required tolerance of 1e-09 for a solution to be considered 'close enough' to zero to be a basic solution. Consider increasing the tolerance to be greater than 6.9e-04. If this tolerance is unacceptably  large the problem may be infeasible.",
     "output_type": "error",
     "traceback": [
      "\u001b[0;31m---------------------------------------------------------------------------\u001b[0m",
      "\u001b[0;31mValueError\u001b[0m                                Traceback (most recent call last)",
      "\u001b[0;32m<ipython-input-13-700eb462f6df>\u001b[0m in \u001b[0;36m<module>\u001b[0;34m\u001b[0m\n\u001b[0;32m----> 1\u001b[0;31m \u001b[0;32mfrom\u001b[0m \u001b[0munseen\u001b[0m \u001b[0;32mimport\u001b[0m \u001b[0munseen\u001b[0m\u001b[0;34m,\u001b[0m \u001b[0mmake_fingers\u001b[0m\u001b[0;34m\u001b[0m\u001b[0;34m\u001b[0m\u001b[0m\n\u001b[0m\u001b[1;32m      2\u001b[0m \u001b[0mf\u001b[0m \u001b[0;34m=\u001b[0m \u001b[0mmake_fingers\u001b[0m\u001b[0;34m(\u001b[0m\u001b[0mx\u001b[0m\u001b[0;34m)\u001b[0m\u001b[0;34m\u001b[0m\u001b[0;34m\u001b[0m\u001b[0m\n\u001b[1;32m      3\u001b[0m \u001b[0mh\u001b[0m\u001b[0;34m,\u001b[0m \u001b[0mx\u001b[0m \u001b[0;34m=\u001b[0m \u001b[0munseen\u001b[0m\u001b[0;34m(\u001b[0m\u001b[0mf\u001b[0m\u001b[0;34m)\u001b[0m\u001b[0;34m\u001b[0m\u001b[0;34m\u001b[0m\u001b[0m\n\u001b[1;32m      4\u001b[0m \u001b[0mestimatedEntropy\u001b[0m \u001b[0;34m=\u001b[0m \u001b[0;34m-\u001b[0m\u001b[0;36m1\u001b[0m\u001b[0;34m*\u001b[0m\u001b[0mnp\u001b[0m\u001b[0;34m.\u001b[0m\u001b[0msum\u001b[0m\u001b[0;34m(\u001b[0m\u001b[0mnp\u001b[0m\u001b[0;34m.\u001b[0m\u001b[0mmultiply\u001b[0m\u001b[0;34m(\u001b[0m\u001b[0;34m[\u001b[0m\u001b[0mi\u001b[0m\u001b[0;34m*\u001b[0m\u001b[0mnp\u001b[0m\u001b[0;34m.\u001b[0m\u001b[0mlog2\u001b[0m\u001b[0;34m(\u001b[0m\u001b[0mi\u001b[0m\u001b[0;34m)\u001b[0m \u001b[0;32mif\u001b[0m \u001b[0mi\u001b[0m \u001b[0;34m!=\u001b[0m\u001b[0;36m0\u001b[0m \u001b[0;32melse\u001b[0m \u001b[0;36m0\u001b[0m \u001b[0;32mfor\u001b[0m \u001b[0mi\u001b[0m \u001b[0;32min\u001b[0m \u001b[0mx\u001b[0m\u001b[0;34m]\u001b[0m\u001b[0;34m,\u001b[0m \u001b[0mh\u001b[0m\u001b[0;34m)\u001b[0m\u001b[0;34m)\u001b[0m\u001b[0;34m\u001b[0m\u001b[0;34m\u001b[0m\u001b[0m\n\u001b[1;32m      5\u001b[0m \u001b[0mprint\u001b[0m\u001b[0;34m(\u001b[0m\u001b[0mestimatedEntropy\u001b[0m\u001b[0;34m)\u001b[0m\u001b[0;34m\u001b[0m\u001b[0;34m\u001b[0m\u001b[0m\n",
      "\u001b[0;32m~/Documents/University of Tübingen/Neural Data Science/unseen.py\u001b[0m in \u001b[0;36m<module>\u001b[0;34m\u001b[0m\n\u001b[1;32m    129\u001b[0m \u001b[0;34m\u001b[0m\u001b[0m\n\u001b[1;32m    130\u001b[0m \u001b[0;31m# Estimate histogram of distribution from which sample was drawn\u001b[0m\u001b[0;34m\u001b[0m\u001b[0;34m\u001b[0m\u001b[0;34m\u001b[0m\u001b[0m\n\u001b[0;32m--> 131\u001b[0;31m \u001b[0;34m[\u001b[0m\u001b[0mh\u001b[0m\u001b[0;34m,\u001b[0m\u001b[0mx\u001b[0m\u001b[0;34m]\u001b[0m\u001b[0;34m=\u001b[0m\u001b[0munseen\u001b[0m\u001b[0;34m(\u001b[0m\u001b[0mf\u001b[0m\u001b[0;34m)\u001b[0m\u001b[0;34m\u001b[0m\u001b[0;34m\u001b[0m\u001b[0m\n\u001b[0m\u001b[1;32m    132\u001b[0m \u001b[0;34m\u001b[0m\u001b[0m\n\u001b[1;32m    133\u001b[0m \u001b[0mtrueEntropy\u001b[0m \u001b[0;34m=\u001b[0m \u001b[0mnp\u001b[0m\u001b[0;34m.\u001b[0m\u001b[0mlog2\u001b[0m\u001b[0;34m(\u001b[0m\u001b[0mn\u001b[0m\u001b[0;34m)\u001b[0m\u001b[0;34m\u001b[0m\u001b[0;34m\u001b[0m\u001b[0m\n",
      "\u001b[0;32m~/Documents/University of Tübingen/Neural Data Science/unseen.py\u001b[0m in \u001b[0;36munseen\u001b[0;34m(f)\u001b[0m\n\u001b[1;32m     90\u001b[0m         \u001b[0mobjf2\u001b[0m\u001b[0;34m[\u001b[0m\u001b[0mi\u001b[0m\u001b[0;34m]\u001b[0m \u001b[0;34m=\u001b[0m \u001b[0mobjf2\u001b[0m\u001b[0;34m[\u001b[0m\u001b[0mi\u001b[0m\u001b[0;34m]\u001b[0m \u001b[0;34m/\u001b[0m \u001b[0mxLP\u001b[0m\u001b[0;34m[\u001b[0m\u001b[0mi\u001b[0m\u001b[0;34m]\u001b[0m\u001b[0;34m\u001b[0m\u001b[0;34m\u001b[0m\u001b[0m\n\u001b[1;32m     91\u001b[0m \u001b[0;34m\u001b[0m\u001b[0m\n\u001b[0;32m---> 92\u001b[0;31m     \u001b[0mres2\u001b[0m \u001b[0;34m=\u001b[0m \u001b[0mlinprog\u001b[0m\u001b[0;34m(\u001b[0m\u001b[0mobjf2\u001b[0m\u001b[0;34m,\u001b[0m \u001b[0mA2\u001b[0m\u001b[0;34m,\u001b[0m \u001b[0mb2\u001b[0m\u001b[0;34m,\u001b[0m \u001b[0mAeq\u001b[0m\u001b[0;34m,\u001b[0m \u001b[0mbeq\u001b[0m\u001b[0;34m,\u001b[0m \u001b[0mbounds\u001b[0m\u001b[0;34m=\u001b[0m\u001b[0;34m(\u001b[0m\u001b[0;36m0\u001b[0m\u001b[0;34m,\u001b[0m \u001b[0mnp\u001b[0m\u001b[0;34m.\u001b[0m\u001b[0minf\u001b[0m\u001b[0;34m)\u001b[0m\u001b[0;34m,\u001b[0m \u001b[0mmethod\u001b[0m\u001b[0;34m=\u001b[0m\u001b[0;34m'simplex'\u001b[0m\u001b[0;34m)\u001b[0m\u001b[0;34m\u001b[0m\u001b[0;34m\u001b[0m\u001b[0m\n\u001b[0m\u001b[1;32m     93\u001b[0m     \u001b[0mstatus2\u001b[0m \u001b[0;34m=\u001b[0m \u001b[0mres2\u001b[0m\u001b[0;34m.\u001b[0m\u001b[0mstatus\u001b[0m\u001b[0;34m\u001b[0m\u001b[0;34m\u001b[0m\u001b[0m\n\u001b[1;32m     94\u001b[0m     \u001b[0msol\u001b[0m \u001b[0;34m=\u001b[0m \u001b[0mres2\u001b[0m\u001b[0;34m.\u001b[0m\u001b[0mx\u001b[0m\u001b[0;34m\u001b[0m\u001b[0;34m\u001b[0m\u001b[0m\n",
      "\u001b[0;32m~/opt/anaconda3/lib/python3.8/site-packages/scipy/optimize/_linprog.py\u001b[0m in \u001b[0;36mlinprog\u001b[0;34m(c, A_ub, b_ub, A_eq, b_eq, bounds, method, callback, options, x0)\u001b[0m\n\u001b[1;32m    558\u001b[0m     \u001b[0mdisp\u001b[0m \u001b[0;34m=\u001b[0m \u001b[0msolver_options\u001b[0m\u001b[0;34m.\u001b[0m\u001b[0mget\u001b[0m\u001b[0;34m(\u001b[0m\u001b[0;34m'disp'\u001b[0m\u001b[0;34m,\u001b[0m \u001b[0;32mFalse\u001b[0m\u001b[0;34m)\u001b[0m\u001b[0;34m\u001b[0m\u001b[0;34m\u001b[0m\u001b[0m\n\u001b[1;32m    559\u001b[0m \u001b[0;34m\u001b[0m\u001b[0m\n\u001b[0;32m--> 560\u001b[0;31m     x, fun, slack, con, status, message = _postprocess(x, postsolve_args,\n\u001b[0m\u001b[1;32m    561\u001b[0m                                                        \u001b[0mcomplete\u001b[0m\u001b[0;34m,\u001b[0m \u001b[0mstatus\u001b[0m\u001b[0;34m,\u001b[0m\u001b[0;34m\u001b[0m\u001b[0;34m\u001b[0m\u001b[0m\n\u001b[1;32m    562\u001b[0m                                                        \u001b[0mmessage\u001b[0m\u001b[0;34m,\u001b[0m \u001b[0mtol\u001b[0m\u001b[0;34m,\u001b[0m\u001b[0;34m\u001b[0m\u001b[0;34m\u001b[0m\u001b[0m\n",
      "\u001b[0;32m~/opt/anaconda3/lib/python3.8/site-packages/scipy/optimize/_linprog_util.py\u001b[0m in \u001b[0;36m_postprocess\u001b[0;34m(x, postsolve_args, complete, status, message, tol, iteration, disp)\u001b[0m\n\u001b[1;32m   1536\u001b[0m     )\n\u001b[1;32m   1537\u001b[0m \u001b[0;34m\u001b[0m\u001b[0m\n\u001b[0;32m-> 1538\u001b[0;31m     status, message = _check_result(\n\u001b[0m\u001b[1;32m   1539\u001b[0m         \u001b[0mx\u001b[0m\u001b[0;34m,\u001b[0m \u001b[0mfun\u001b[0m\u001b[0;34m,\u001b[0m \u001b[0mstatus\u001b[0m\u001b[0;34m,\u001b[0m \u001b[0mslack\u001b[0m\u001b[0;34m,\u001b[0m \u001b[0mcon\u001b[0m\u001b[0;34m,\u001b[0m\u001b[0;34m\u001b[0m\u001b[0;34m\u001b[0m\u001b[0m\n\u001b[1;32m   1540\u001b[0m         \u001b[0mbounds\u001b[0m\u001b[0;34m,\u001b[0m \u001b[0mtol\u001b[0m\u001b[0;34m,\u001b[0m \u001b[0mmessage\u001b[0m\u001b[0;34m\u001b[0m\u001b[0;34m\u001b[0m\u001b[0m\n",
      "\u001b[0;32m~/opt/anaconda3/lib/python3.8/site-packages/scipy/optimize/_linprog_util.py\u001b[0m in \u001b[0;36m_check_result\u001b[0;34m(x, fun, status, slack, con, bounds, tol, message)\u001b[0m\n\u001b[1;32m   1451\u001b[0m         \u001b[0;31m# nearly basic feasible solution. Postsolving can make the solution\u001b[0m\u001b[0;34m\u001b[0m\u001b[0;34m\u001b[0m\u001b[0;34m\u001b[0m\u001b[0m\n\u001b[1;32m   1452\u001b[0m         \u001b[0;31m# basic, however, this solution is NOT optimal\u001b[0m\u001b[0;34m\u001b[0m\u001b[0;34m\u001b[0m\u001b[0;34m\u001b[0m\u001b[0m\n\u001b[0;32m-> 1453\u001b[0;31m         \u001b[0;32mraise\u001b[0m \u001b[0mValueError\u001b[0m\u001b[0;34m(\u001b[0m\u001b[0mmessage\u001b[0m\u001b[0;34m)\u001b[0m\u001b[0;34m\u001b[0m\u001b[0;34m\u001b[0m\u001b[0m\n\u001b[0m\u001b[1;32m   1454\u001b[0m \u001b[0;34m\u001b[0m\u001b[0m\n\u001b[1;32m   1455\u001b[0m     \u001b[0;32mreturn\u001b[0m \u001b[0mstatus\u001b[0m\u001b[0;34m,\u001b[0m \u001b[0mmessage\u001b[0m\u001b[0;34m\u001b[0m\u001b[0;34m\u001b[0m\u001b[0m\n",
      "\u001b[0;31mValueError\u001b[0m: Phase 1 of the simplex method failed to find a feasible solution. The pseudo-objective function evaluates to 6.9e-04 which exceeds the required tolerance of 1e-09 for a solution to be considered 'close enough' to zero to be a basic solution. Consider increasing the tolerance to be greater than 6.9e-04. If this tolerance is unacceptably  large the problem may be infeasible."
     ]
    }
   ],
   "source": [
    "from unseen import unseen, make_fingers\n",
    "f = make_fingers(x)\n",
    "h, x = unseen(f)\n",
    "estimatedEntropy = -1*np.sum(np.multiply([i*np.log2(i) if i !=0 else 0 for i in x], h))\n",
    "print(estimatedEntropy)"
   ]
  },
  {
   "cell_type": "code",
   "execution_count": null,
   "metadata": {},
   "outputs": [],
   "source": []
  }
 ],
 "metadata": {
  "anaconda-cloud": {},
  "kernelspec": {
   "display_name": "Python 3",
   "language": "python",
   "name": "python3"
  },
  "language_info": {
   "codemirror_mode": {
    "name": "ipython",
    "version": 3
   },
   "file_extension": ".py",
   "mimetype": "text/x-python",
   "name": "python",
   "nbconvert_exporter": "python",
   "pygments_lexer": "ipython3",
   "version": "3.8.5"
  },
  "nteract": {
   "version": "0.13.0"
  },
  "varInspector": {
   "cols": {
    "lenName": 16,
    "lenType": 16,
    "lenVar": 40
   },
   "kernels_config": {
    "python": {
     "delete_cmd_postfix": "",
     "delete_cmd_prefix": "del ",
     "library": "var_list.py",
     "varRefreshCmd": "print(var_dic_list())"
    },
    "r": {
     "delete_cmd_postfix": ") ",
     "delete_cmd_prefix": "rm(",
     "library": "var_list.r",
     "varRefreshCmd": "cat(var_dic_list()) "
    }
   },
   "types_to_exclude": [
    "module",
    "function",
    "builtin_function_or_method",
    "instance",
    "_Feature"
   ],
   "window_display": false
  }
 },
 "nbformat": 4,
 "nbformat_minor": 1
}
